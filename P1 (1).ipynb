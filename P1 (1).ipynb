{
 "cells": [
  {
   "cell_type": "markdown",
   "metadata": {},
   "source": [
    "# PIC16A Final Exam, Problem 1 (55 points)\n",
    "\n",
    "### *Spring 2021*\n",
    "\n",
    "## Academic Integrity Statement\n",
    "\n",
    "As a matter of Departmental policy, **we are required to give you a 0** unless you **type your name** after the following statement: \n",
    "\n",
    "> *I certify on my honor that I have neither given nor received any help, or used any non-permitted resources, while completing this evaluation.*\n",
    "\n",
    "\\[Eirik Aalstad Baekkelund\\]\n",
    "\n",
    "## Permitted Resources\n",
    "\n",
    "This exam is open-book, open-notes, open-internet, open-everything. The only thing you are not allowed to do is ask another human being for help, with the exception of me. Examples: \n",
    "\n",
    "1. **Permitted**: Checking course notes and videos; browsing Google or StackOverflow; consulting previous Campuswire posts. \n",
    "2. **Not permitted**: Requesting help on Chegg; publicly posting on Campuswire (messages to me are ok); privately asking classmates for help; posting on StackOverflow. \n",
    "\n",
    "If you encounter any situation in which you're not 100% sure what's permitted, **just ask**! \n",
    "\n",
    "\n",
    "### Partial Credit\n",
    "\n",
    "Let us give you partial credit! If you're stuck on a problem and just can't get your code to run: \n",
    "\n",
    "First, **breathe**. Then, do any or all of the following: \n",
    "    \n",
    "1. Write down everything relevant that you know about the problem, as comments where your code would go. \n",
    "2. If you have non-functioning code that demonstrates some correct ideas, indicate that and keep it (commented out). \n",
    "3. Write down pseudocode (written instructions) outlining your solution approach. \n",
    "\n",
    "In brief, even if you can't quite get your code to work, you can still **show us what you know.**"
   ]
  },
  {
   "cell_type": "markdown",
   "metadata": {},
   "source": [
    "# Introduction\n",
    "\n",
    "This problem is based on the article \n",
    "\n",
    "> Obermeyer, Z., Powers, B., Vogeli, C., & Mullainathan, S. (2019). Dissecting racial bias in an algorithm used to manage the health of populations. *Science*, 366(6464), 447-453.\n",
    "\n",
    "In this article, the authors use patient medical records, demographics, and insurance claims to study bias in a machine learning model used to predict patient risk. This model has been used to make recommendations about which patients should be admitted to more intensive care programs on the basis of their health. \n",
    "\n",
    "In this problem, you will replicate several of the qualitative findings from this study. \n",
    "\n",
    "The results presented in this article were discussed by Dr. Ruha Benjamin in the video \"[Are We Automating Racism](https://www.youtube.com/watch?v=Ok5sKLXqynQ),\" which was one of the videos we watched as part of our discussion of algorithmic bias in Week 8. You are free to consult either the article or the video when completing this assignment. While doing so may be interesting, it is not likely to concretely help you in the problems below.\n",
    "\n",
    "\n",
    "\n",
    "\n",
    "## Data Access\n",
    "\n",
    "In order to protect patient privacy, the authors did not share the \"real\" data used in their study. Instead, they created a randomized version of the data that preserves many of the same patterns and trends. Run the cell below to access the data. I have also uploaded the CSV file directly to CCLE in case you have issues using this URL. "
   ]
  },
  {
   "cell_type": "code",
   "execution_count": 1,
   "metadata": {},
   "outputs": [],
   "source": [
    "import pandas as pd\n",
    "from matplotlib import pyplot as plt\n",
    "import numpy as np\n",
    "url = \"https://gitlab.com/labsysmed/dissecting-bias/-/raw/master/data/data_new.csv?inline=false\"\n",
    "df = pd.read_csv(url)"
   ]
  },
  {
   "cell_type": "markdown",
   "metadata": {},
   "source": [
    "There are 48,784 patients represented as rows in the data, and 160 pieces of information about each patient represented as columns. Run the code below to check this: "
   ]
  },
  {
   "cell_type": "code",
   "execution_count": 2,
   "metadata": {},
   "outputs": [
    {
     "data": {
      "text/plain": [
       "(48784, 160)"
      ]
     },
     "execution_count": 2,
     "metadata": {},
     "output_type": "execute_result"
    }
   ],
   "source": [
    "df.shape"
   ]
  },
  {
   "cell_type": "markdown",
   "metadata": {},
   "source": [
    "A few of the columns are going to be especially important in our analysis: \n",
    "\n",
    "- `risk_score_t` is the algorithm's risk score assigned to a given patient. \n",
    "- `cost_t` is the patient's medical costs in the study period. \n",
    "- `race` is the patient's self-reported race. The authors filtered the data to include only `white` and `black` patients. \n",
    "- `gagne_sum_t` is the total number of chronic illnesses presented by the patient during the study period. \n",
    "- `dem_female` is a patient sex indicator, with `1` indicating female patients and `0` indicating male patients. \n",
    "\n",
    "Run the code below to take a look at these columns. "
   ]
  },
  {
   "cell_type": "code",
   "execution_count": 3,
   "metadata": {},
   "outputs": [
    {
     "data": {
      "text/html": [
       "<div>\n",
       "<style scoped>\n",
       "    .dataframe tbody tr th:only-of-type {\n",
       "        vertical-align: middle;\n",
       "    }\n",
       "\n",
       "    .dataframe tbody tr th {\n",
       "        vertical-align: top;\n",
       "    }\n",
       "\n",
       "    .dataframe thead th {\n",
       "        text-align: right;\n",
       "    }\n",
       "</style>\n",
       "<table border=\"1\" class=\"dataframe\">\n",
       "  <thead>\n",
       "    <tr style=\"text-align: right;\">\n",
       "      <th></th>\n",
       "      <th>risk_score_t</th>\n",
       "      <th>cost_t</th>\n",
       "      <th>gagne_sum_t</th>\n",
       "      <th>race</th>\n",
       "      <th>dem_female</th>\n",
       "    </tr>\n",
       "  </thead>\n",
       "  <tbody>\n",
       "    <tr>\n",
       "      <th>0</th>\n",
       "      <td>1.987430</td>\n",
       "      <td>1200.0</td>\n",
       "      <td>0</td>\n",
       "      <td>white</td>\n",
       "      <td>0</td>\n",
       "    </tr>\n",
       "    <tr>\n",
       "      <th>1</th>\n",
       "      <td>7.677934</td>\n",
       "      <td>2600.0</td>\n",
       "      <td>3</td>\n",
       "      <td>white</td>\n",
       "      <td>1</td>\n",
       "    </tr>\n",
       "    <tr>\n",
       "      <th>2</th>\n",
       "      <td>0.407678</td>\n",
       "      <td>500.0</td>\n",
       "      <td>0</td>\n",
       "      <td>white</td>\n",
       "      <td>1</td>\n",
       "    </tr>\n",
       "    <tr>\n",
       "      <th>3</th>\n",
       "      <td>0.798369</td>\n",
       "      <td>1300.0</td>\n",
       "      <td>0</td>\n",
       "      <td>white</td>\n",
       "      <td>1</td>\n",
       "    </tr>\n",
       "    <tr>\n",
       "      <th>4</th>\n",
       "      <td>17.513165</td>\n",
       "      <td>1100.0</td>\n",
       "      <td>1</td>\n",
       "      <td>white</td>\n",
       "      <td>1</td>\n",
       "    </tr>\n",
       "  </tbody>\n",
       "</table>\n",
       "</div>"
      ],
      "text/plain": [
       "   risk_score_t  cost_t  gagne_sum_t   race  dem_female\n",
       "0      1.987430  1200.0            0  white           0\n",
       "1      7.677934  2600.0            3  white           1\n",
       "2      0.407678   500.0            0  white           1\n",
       "3      0.798369  1300.0            0  white           1\n",
       "4     17.513165  1100.0            1  white           1"
      ]
     },
     "execution_count": 3,
     "metadata": {},
     "output_type": "execute_result"
    }
   ],
   "source": [
    "cols = ['risk_score_t', 'cost_t', 'gagne_sum_t','race',  'dem_female']\n",
    "df[cols].head()"
   ]
  },
  {
   "cell_type": "markdown",
   "metadata": {},
   "source": [
    "# Part A (20 points)\n",
    "\n",
    "Here's how the algorithm was used in the medical setting: \n",
    "\n",
    "> Patients with higher scores from the algorithm were more likely to be enrolled in “high-risk care management” programs. \n",
    "\n",
    "A high-risk care management program offers additional health resources to patients, including trained healthcare providers to help them manage complex health needs. In other words, \n",
    "\n",
    "> If you are very sick, getting a **high** score on the algorithm can help you receive **more** medical attention. \n",
    "\n",
    "One of the major findings of the study above was that the algorithm tended to give lower scores to Black patients, even when those Black patients were equally sick as White patients. In this part, you will replicate this finding. \n",
    "\n",
    "**To do so, create the following plot:** \n",
    "\n",
    "<figure class=\"image\" style=\"width:70%\">\n",
    "  <img src=\"https://raw.githubusercontent.com/PhilChodrow/PIC16A/master/_images/risk1.png\" alt=\"\">\n",
    "  <figcaption><i></i></figcaption>\n",
    "</figure>\n",
    "\n",
    "#### Key Points\n",
    "\n",
    "- **The vertical axis gives the *percentile risk* of patients assigned by the algorithm, rounded to the nearest percentage point**. A patient in the 85th percentile, for example, received a risk score from the algorithm higher than 84% of all patients and lower than 15% of all patients. The raw risk score (not the percentile) of each patient is contained in the `risk_score_t` column. \n",
    "- **The horizontal axis gives the average number of chronic illnesses presented by patients in the corresponding risk percentile**. For example, White men in the 80th risk score percentile presented, on average, approximately two chronic illnesses. The number of chronic illnesses presented by a patient is contained in the `\"gagne_sum_t\"` column of the data. \n",
    "- Different colors segment Black and White patients (`race`). Two panels distinguish between male and female patients. The `dem_female` column gives the sex of each patient, with `0` representing male and `1` representing female.  \n",
    "\n",
    "### Specs\n",
    "\n",
    "Please attend to the following details:\n",
    "\n",
    "- It is important that you **round the percentile risk scores to the nearest percentile**, and compute the average number of conditions within each rounded percentile. This means that, for example, there should be 101 data points  (percentiles 0%-100%) corresponding to Black women, 101 other data points corresponding to White women, etc. Failure to round and compute the mean will result in your plot containing an unreadable number of points. \n",
    "- The horizontal axis, vertical axis, and axis titles are all appropriately ***capitalized***: the first letter of the first word is capitalized. \n",
    "- The legend title, as well as the legend entries, are also appropriately capitalized. \n",
    "- Beyond these specs, you are free to modify the colors, transparency, etc, and get creative with the text. You are not required to replicate the exact size or aspect ratio of the figure. \n",
    "\n",
    "### Hints\n",
    "\n",
    "- The only columns you need to work with in this problem are: `risk_score_t`, `race`, `gagne_sum_t` (containing the number of chronic illnesses per patient), and `dem_female`\n",
    "- The plotting aspect problem can be solved using either standard `matplotlib` or `seaborn`. Correct approaches using either set of tools will receive full credit. \n",
    "- The percentiles of an data frame column `df[\"x\"]` can be computed by `df[\"x\"].rank()/len(df)`. The results will be values between 0 and 1. One should then multiply by 100 and `round()` the results to obtain the percentiles as integers between 0 and 100. \n",
    "- To compute the mean number of chronic illnesses per percentile, group by the integer percentiles (as well as race and sex) and then compute the `mean` of the `gagne_sum_t` column. \n",
    "- The plotted points should correspond to *average* number of chronic conditions, *grouped by* percentiles and demographic variables. "
   ]
  },
  {
   "cell_type": "code",
   "execution_count": 4,
   "metadata": {},
   "outputs": [],
   "source": [
    "# feel free to use this cell for \"scratchwork\" (e.g. data exploration). \n",
    "# Place your actual solution in the cell below\n"
   ]
  },
  {
   "cell_type": "code",
   "execution_count": 5,
   "metadata": {},
   "outputs": [
    {
     "data": {
      "image/png": "[encoded data removed]",
      "text/plain": [
       "<Figure size 648x360 with 2 Axes>"
      ]
     },
     "metadata": {
      "needs_background": "light"
     },
     "output_type": "display_data"
    }
   ],
   "source": [
    "# initialize figure with 2 axes and an appropriate\n",
    "# figure size\n",
    "fig, ax = plt.subplots(1,2, figsize = (9, 5))\n",
    "\n",
    "# color dictionary to color the scatter plot\n",
    "colors = {\n",
    "    \"white\" : \"orange\",\n",
    "    \"black\" : \"blue\"\n",
    "}\n",
    "\n",
    "def plot(race):\n",
    "    \"\"\"\n",
    "    Plots the percentile risk score\n",
    "    vs. the mean number of chronic illnesses\n",
    "    where the passed dataframe is grouped by\n",
    "    race, gender, and risk score.\n",
    "    \"\"\"\n",
    "    # assign race for axis label\n",
    "    i = np.unique(race['dem_female'])\n",
    "    # assign race for key to color\n",
    "    c = np.unique(race['race'])\n",
    "    # assign y coordinate as % Risk Score\n",
    "    x = np.unique(race['% Risk Score'])\n",
    "    \n",
    "    # adds label only once\n",
    "    if (x[0] == 0) & (i[0] == 1):\n",
    "    # scatter plots in axis label i with\n",
    "    # x-coordinate being mean of race_gagne_sum_t\n",
    "    # y-coordinate is % Risk Score, color assigned colors dict\n",
    "    # label assigned by c\n",
    "        ax[i[0]].scatter(race['gagne_sum_t'].mean(),x[0],\n",
    "                     color = colors[str(c[0])], alpha = 0.4,\n",
    "                     label = c[0][0].upper() + c[0][1:])\n",
    "    else:\n",
    "        # scatter as above without assigning label\n",
    "        ax[i[0]].scatter(race['gagne_sum_t'].mean(),x[0],\n",
    "                     color = colors[str(c[0])], alpha = 0.4)\n",
    "\n",
    "# take only relevant columns of df\n",
    "df = df[cols]\n",
    "# compute % risk score by provided algorithm to get percentiles\n",
    "df['% Risk Score'] = ((df['risk_score_t'].rank()/len(df))*100).round()\n",
    "\n",
    "# make seperate dataframes for white and black\n",
    "white = df[df['race'] == 'white']\n",
    "black = df[df['race'] == 'black']\n",
    "\n",
    "# make sepearate dataframes for white males & females\n",
    "white_m = white[white['dem_female'] == 0]\n",
    "white_f = white[white['dem_female'] == 1]\n",
    "# make seperate dataframes for black males & females\n",
    "black_m = black[black['dem_female'] == 0]\n",
    "black_f = black[black['dem_female'] == 1]\n",
    "\n",
    "# make a list of all the dataframes\n",
    "L = [white_m, white_f, black_m, black_f]\n",
    "\n",
    "# loop through L\n",
    "for c in L:\n",
    "# group all the dataframes into their % Risk Score\n",
    "    c.groupby('% Risk Score').apply(plot)\n",
    "\n",
    "# set titles (0) is male as seen in df such that\n",
    "# (1) is female\n",
    "ax[0].set_title(\"Male\", fontsize = 12)\n",
    "ax[1].set_title(\"Female\", fontsize = 12)\n",
    "\n",
    "# set x label same for both, but only y-label at first\n",
    "# so they share the y-axis label\n",
    "for i in range(2):\n",
    "    if i == 0:\n",
    "        ax[i].set_ylabel(\"Percentile risk score (from algorithm)\")\n",
    "        ax[i].set_xlabel(xlabel = \"Mean number of chronic illnesses\")\n",
    "    else:\n",
    "        ax[i].set_ylabel = (\"Percentile risk score (from algorithm)\")\n",
    "    \n",
    "# add the legends we assigned \n",
    "ax[1].legend(title = \"Races\")\n",
    "plt.tight_layout()"
   ]
  },
  {
   "cell_type": "markdown",
   "metadata": {},
   "source": [
    "# Part B (5 points)\n",
    "\n",
    "In no more than four sentences, describe the meaning of the plot you produced in Part A. For example, suppose that Patient A is Black, that Patient B is White, and that both Patient A and Patient B have exactly the same chronic illnesses. Are Patient A and Patient B equally likely to be referred to the high-risk care management program? "
   ]
  },
  {
   "cell_type": "markdown",
   "metadata": {},
   "source": [
    "\\[**White patients tend to be more likely to be assigned into high-risk groups so that they are eligible for more medical attention and care than their black counterparts.This is seen as the orange trend line is above the blue, which represents white and black, respectively.**\\]\n"
   ]
  },
  {
   "cell_type": "markdown",
   "metadata": {},
   "source": [
    "# Part C (30 points)\n",
    "\n",
    "Next, you'll perform an analysis to identify the source of this disparity in Black and White patients. You might imagine that the model was trained to base its risk scores on an \"overall level of health\" in the training data. However, it is very difficult to get data on such a concept. \n",
    "\n",
    "For this reason, the algorithm studied was trained instead using *total medical costs* as the target variable. That is: \n",
    "\n",
    "> The risk score an agent receives is a function of the model's prediction of the total medical costs which will be incurred by that individual. \n",
    "\n",
    "This is a superficially logical choice, since (a) total medical costs are generally correlated with health and (b) costs are regularly recorded in insurance claims data. \n",
    "\n",
    "In this problem, you'll use linear regression to estimate the difference in generated medical costs between White and Black patients in this data set, and comment on this result in the context of Part A and B. \n",
    "\n",
    "### What You Should Do\n",
    "\n",
    "1. If you modified the data frame `df` in any way, you should re-run the code in which you load the data frame. \n",
    "2. Run the supplied cell in order to limit the columns in the data frame to the ones you will use in this analysis. \n",
    "3. The `race` column of the data is currently a string. Encode it using integer labels. \n",
    "4. Partition the data into a target data `y` consisting of the `cost_t` column of `df`. Let the predictor data `X` contain all other columns, excluding `cost_t`. \n",
    "5. Perform a train-test split of `X` and `y`, using 20% of the data as test data. Please pass the argument `random_state = 2021` to your split function in order to ensure reproducibility. **Important**: you should do this using only one function call. \n",
    "6. Create a **linear** regression model and fit it to the training data. Evaluate the `score` of the model on the training and testing data. Here are the scores that I got -- it's ok if yours are a little different. \n",
    "    - Training score: `0.12629789734544883`\n",
    "    - Testing score: `0.12415443228313183`\n",
    "7. Based these results, comment on whether you are concerned about overfitting. **Note**: these are not \"accuracy\" scores but rather \"coefficient of determination\" scores. They are relatively low, but low scores on statistical tasks are common in medical and biological applications. \n",
    "8. Examine the `coef_` attribute of the fitted linear regression model. The `race` column is the first one in the data frame. This means that the very first entry of the `coef_` array gives the model's estimate of the difference in costs between White and Black patients when controlling for sex, age, and medical conditions. Here's what I got -- it's ok if your answer is a little different: \n",
    "    - Coefficient of `race`: `579.9031747777375`. \n",
    "9. Black patients in the US tend to generate *lower* medical costs than their equally-sick White counterparts, due to long-standing disparities in access to medical resources. Using your result from Step 8:\n",
    "    - State your estimate of the difference in medical costs between White and Black patients. \n",
    "    - Describe in no more than 4 sentences how your result would explain the disparities in risk scores from Part A. \n",
    "    \n",
    "    \n",
    "***Note***: *The estimated cost disparity in the published paper is higher, over twice the result given here. This may reflect a methodological difference in their modeling or possibly be a byproduct of their data randomization.* "
   ]
  },
  {
   "cell_type": "markdown",
   "metadata": {},
   "source": [
    "#### Step 1\n",
    "\n",
    "If you modified the data frame `df` in any way in Part A, you should run the code below to reload the data frame. "
   ]
  },
  {
   "cell_type": "code",
   "execution_count": 6,
   "metadata": {},
   "outputs": [],
   "source": [
    "# Step 1: run, do not modify\n",
    "df = pd.read_csv(url)"
   ]
  },
  {
   "cell_type": "markdown",
   "metadata": {},
   "source": [
    "#### Step 2\n",
    "\n",
    "Run this cell in order to limit the columns in the data frame to the ones you will use in this analysis. "
   ]
  },
  {
   "cell_type": "code",
   "execution_count": 7,
   "metadata": {},
   "outputs": [],
   "source": [
    "# Step 2: run, do not modify\n",
    "cols = ['cost_t',\n",
    "        'race',\n",
    "        'dem_female',\n",
    "        'dem_age_band_18-24_tm1',\n",
    "        'dem_age_band_25-34_tm1',\n",
    "        'dem_age_band_35-44_tm1',\n",
    "        'dem_age_band_45-54_tm1',\n",
    "        'dem_age_band_55-64_tm1',\n",
    "        'dem_age_band_65-74_tm1',\n",
    "        'dem_age_band_75+_tm1',\n",
    "        'alcohol_elixhauser_tm1',\n",
    "        'anemia_elixhauser_tm1',\n",
    "        'arrhythmia_elixhauser_tm1',\n",
    "        'arthritis_elixhauser_tm1',\n",
    "        'bloodlossanemia_elixhauser_tm1',\n",
    "        'coagulopathy_elixhauser_tm1',\n",
    "        'compdiabetes_elixhauser_tm1',\n",
    "        'depression_elixhauser_tm1',\n",
    "        'drugabuse_elixhauser_tm1',\n",
    "        'electrolytes_elixhauser_tm1',\n",
    "        'hypertension_elixhauser_tm1',\n",
    "        'hypothyroid_elixhauser_tm1',\n",
    "        'liver_elixhauser_tm1',\n",
    "        'neurodegen_elixhauser_tm1',\n",
    "        'obesity_elixhauser_tm1',\n",
    "        'paralysis_elixhauser_tm1',\n",
    "        'psychosis_elixhauser_tm1',\n",
    "        'pulmcirc_elixhauser_tm1',\n",
    "        'pvd_elixhauser_tm1',\n",
    "        'renal_elixhauser_tm1',\n",
    "        'uncompdiabetes_elixhauser_tm1',\n",
    "        'valvulardz_elixhauser_tm1',\n",
    "        'wtloss_elixhauser_tm1',\n",
    "        'cerebrovasculardz_romano_tm1',\n",
    "        'chf_romano_tm1',\n",
    "        'dementia_romano_tm1',\n",
    "        'hemiplegia_romano_tm1',\n",
    "        'hivaids_romano_tm1',\n",
    "        'metastatic_romano_tm1',\n",
    "        'myocardialinfarct_romano_tm1',\n",
    "        'pulmonarydz_romano_tm1',\n",
    "        'tumor_romano_tm1',\n",
    "        'ulcer_romano_tm1']\n",
    "\n",
    "df = df[cols]\n"
   ]
  },
  {
   "cell_type": "markdown",
   "metadata": {},
   "source": [
    "#### Step 3\n",
    "\n",
    "The `race` column of the data is currently a string. Encode it using integer labels. "
   ]
  },
  {
   "cell_type": "code",
   "execution_count": 8,
   "metadata": {},
   "outputs": [
    {
     "data": {
      "text/plain": [
       "0    1\n",
       "1    1\n",
       "2    1\n",
       "3    1\n",
       "4    1\n",
       "Name: race, dtype: int64"
      ]
     },
     "execution_count": 8,
     "metadata": {},
     "output_type": "execute_result"
    }
   ],
   "source": [
    "# Step 3: your code here\n",
    "# import library needed for encoding\n",
    "from sklearn import preprocessing\n",
    "# make encoder\n",
    "le = preprocessing.LabelEncoder()\n",
    "# apply encoder to the race column to get 0's and 1's\n",
    "# instead of strings\n",
    "df['race'] = le.fit_transform(df['race'])\n",
    "df['race'].head()"
   ]
  },
  {
   "cell_type": "markdown",
   "metadata": {},
   "source": [
    "#### Step 4\n",
    "\n",
    "Partition the data into a target data `y` consisting of the `cost_t` column of `df`. Let the predictor data `X` contain all other columns, excluding `cost_t`. "
   ]
  },
  {
   "cell_type": "code",
   "execution_count": 9,
   "metadata": {},
   "outputs": [],
   "source": [
    "# Step 4: your code here\n",
    "# create predictive data X containing all\n",
    "# but the cost_t column\n",
    "X = df.drop(['cost_t'], axis = 1)\n",
    "# and target data y, only containing cost_t\n",
    "# column\n",
    "y = df['cost_t']"
   ]
  },
  {
   "cell_type": "markdown",
   "metadata": {},
   "source": [
    "#### Step 5\n",
    "\n",
    "Perform a train-test split of `X` and `y`, using 20% of the data as test data. Please pass the argument `random_state = 2021` to your split function in order to ensure reproducibility. \n",
    "\n",
    "**Important**: you should do this using only one function call. \n"
   ]
  },
  {
   "cell_type": "code",
   "execution_count": 10,
   "metadata": {},
   "outputs": [],
   "source": [
    "# Step 5: your code here\n",
    "# import model for train_test_split\n",
    "from sklearn.model_selection import train_test_split\n",
    "# perform a train_test_split on the data X and y was taken from\n",
    "train, test = train_test_split(df, random_state = 2021, test_size = 0.2)\n"
   ]
  },
  {
   "cell_type": "markdown",
   "metadata": {},
   "source": [
    "#### Step 6\n",
    "\n",
    "Create a **linear** regression model and fit it to the training data. Evaluate the `score` of the model on the training and testing data. Here are the scores that I got -- it's ok if yours are a little different. \n",
    "- Training score: `0.12629789734544883`\n",
    "- Testing score: `0.12415443228313183`"
   ]
  },
  {
   "cell_type": "code",
   "execution_count": 11,
   "metadata": {},
   "outputs": [
    {
     "name": "stdout",
     "output_type": "stream",
     "text": [
      "Training score: 0.12629789734544883\n",
      "Test score: 0.12415443228313183\n"
     ]
    }
   ],
   "source": [
    "# Step 6: your code here\n",
    "#import a linear regression model from sklearn\n",
    "from sklearn.linear_model import LinearRegression\n",
    "# create training data for model\n",
    "X_train = train.drop(['cost_t'], axis = 1).values\n",
    "y_train = train['cost_t'].values\n",
    "\n",
    "# create test data for model\n",
    "X_test = test.drop(['cost_t'], axis = 1).values\n",
    "y_test = test['cost_t'].values\n",
    "\n",
    "# initialize a linear regression model and\n",
    "# fit it to our training data\n",
    "LR = LinearRegression()\n",
    "LR.fit(X_train, y_train)\n",
    "#print the score on training data and test data\n",
    "print(\"Training score: \" + str(LR.score(X_train,y_train)))\n",
    "print(\"Test score: \" + str(LR.score(X_test,y_test)))"
   ]
  },
  {
   "cell_type": "markdown",
   "metadata": {},
   "source": [
    "#### Step 7"
   ]
  },
  {
   "cell_type": "markdown",
   "metadata": {},
   "source": [
    "Based the results above, comment on whether you are concerned about overfitting. \n",
    "\n",
    "**Note**: these are not \"accuracy\" scores but rather \"coefficient of determination\" scores. They are relatively low, but low scores on statistical tasks are common in medical and biological applications. \n",
    "\n",
    "\\[**Based on the fact that the training score and the test score do not hace much disparity (i.e., they are very similar), it implies that we have a good fit for our model such that it make good predictions on the unseen data. This is a good indicator that we have not ran into issues of overfitting.**\\]"
   ]
  },
  {
   "cell_type": "markdown",
   "metadata": {},
   "source": [
    "#### Step 8\n",
    "\n",
    "Examine the `coef_` attribute of the fitted linear regression model. The `race` column is the first one in the predictor data frame. This means that the very first entry of the `coef_` array gives the model's estimate of the difference in costs between White and Black patients when controlling for sex, age, and medical conditions. Here's what I got -- it's ok if your answer is a little different: \n",
    "- Coefficient of `race`: `579.9031747777375`. "
   ]
  },
  {
   "cell_type": "code",
   "execution_count": 12,
   "metadata": {},
   "outputs": [
    {
     "data": {
      "text/plain": [
       "array([ 5.79903175e+02,  1.54789112e+03,  3.42519566e+02,  1.25368201e+03,\n",
       "        2.93511546e+02,  1.97017897e+03,  1.18312122e+03,  9.94658581e+02,\n",
       "        1.36127145e+03, -3.97645132e+03,  2.12001193e+03,  2.73994341e+03,\n",
       "        3.03759323e+03,  1.38602669e+04,  6.52638631e+03,  7.18741393e+03,\n",
       "        2.51361732e+03,  4.80360992e+03,  4.60203585e+03,  6.44569139e+00,\n",
       "        6.30359456e+02,  4.11984111e+03,  6.43116395e+03,  1.10334832e+03,\n",
       "        1.47635382e+04,  5.57645623e+03,  1.66307568e+03,  3.39689130e+03,\n",
       "        7.60983033e+03,  3.50990145e+02,  1.49889441e+03,  5.15491960e+03,\n",
       "        1.25792030e+03,  4.55503413e+03,  1.10148004e+03,  1.31622006e+04,\n",
       "        1.01913564e+04,  2.07223319e+04,  7.21906272e+02,  1.98146544e+03,\n",
       "        2.16281744e+03,  8.04767582e+03])"
      ]
     },
     "execution_count": 12,
     "metadata": {},
     "output_type": "execute_result"
    }
   ],
   "source": [
    "# Step 8: your code here\n",
    "LR.coef_"
   ]
  },
  {
   "cell_type": "markdown",
   "metadata": {},
   "source": [
    "#### Step 9"
   ]
  },
  {
   "cell_type": "markdown",
   "metadata": {},
   "source": [
    "Black patients in the US tend to generate *lower* medical costs than their equally-sick White counterparts, due to long-standing disparities in access to medical resources. Using your result from Step 8:\n",
    "- State your estimate of the difference in medical costs between White and Black patients. \n",
    "- Describe in no more than 4 sentences how your result would explain the disparities in risk scores from Part A. \n",
    "\n",
    "\\[**The coefficient means that the predicted response rises by roughly 580 for each time x is increased by 1. As we are in a linear regression model, it can imply that whites get $580 more in support than what blacks do**\\]"
   ]
  }
 ],
 "metadata": {
  "kernelspec": {
   "display_name": "Python 3",
   "language": "python",
   "name": "python3"
  },
  "language_info": {
   "codemirror_mode": {
    "name": "ipython",
    "version": 3
   },
   "file_extension": ".py",
   "mimetype": "text/x-python",
   "name": "python",
   "nbconvert_exporter": "python",
   "pygments_lexer": "ipython3",
   "version": "3.8.5"
  }
 },
 "nbformat": 4,
 "nbformat_minor": 4
}

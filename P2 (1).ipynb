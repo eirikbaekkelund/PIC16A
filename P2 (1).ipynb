{
 "cells": [
  {
   "cell_type": "markdown",
   "metadata": {},
   "source": [
    "# PIC16A Final Exam, Problem 2 (45 points)\n",
    "\n",
    "### *Spring 2021*\n",
    "\n",
    "## Academic Integrity Statement\n",
    "\n",
    "As a matter of Departmental policy, **we are required to give you a 0** unless you **type your name** after the following statement: \n",
    "\n",
    "> *I certify on my honor that I have neither given nor received any help, or used any non-permitted resources, while completing this evaluation.*\n",
    "\n",
    "\\[Eirik Aalstad Baekkelund\\]\n",
    "\n",
    "## Permitted Resources\n",
    "\n",
    "This exam is open-book, open-notes, open-internet, open-everything. The only thing you are not allowed to do is ask another human being for help, with the exception of me. Examples: \n",
    "\n",
    "1. **Permitted**: Checking course notes and videos; browsing Google or StackOverflow; consulting previous Campuswire posts. \n",
    "2. **Not permitted**: Requesting help on Chegg; publicly posting on Campuswire (messages to me are ok); privately asking classmates for help; posting on StackOverflow. \n",
    "\n",
    "If you encounter any situation in which you're not 100% sure what's permitted, **just ask**! \n",
    "\n",
    "\n",
    "### Partial Credit\n",
    "\n",
    "Let us give you partial credit! If you're stuck on a problem and just can't get your code to run: \n",
    "\n",
    "First, **breathe**. Then, do any or all of the following: \n",
    "    \n",
    "1. Write down everything relevant that you know about the problem, as comments where your code would go. \n",
    "2. If you have non-functioning code that demonstrates some correct ideas, indicate that and keep it (commented out). \n",
    "3. Write down pseudocode (written instructions) outlining your solution approach. \n",
    "\n",
    "In brief, even if you can't quite get your code to work, you can still **show us what you know.**"
   ]
  },
  {
   "cell_type": "markdown",
   "metadata": {},
   "source": [
    "# Introduction\n",
    "\n",
    "In this problem, you'll use object-oriented programming and Numpy techniques to create simple graphics with bullseyes, like this one: \n",
    "\n",
    "<figure class=\"image\" style=\"width:80%\">\n",
    "  <img src=\"https://raw.githubusercontent.com/PhilChodrow/PIC16A/master/_images/bullseyes.png\" alt=\"\">\n",
    "  <figcaption><i>Example output from this problem.</i></figcaption>\n",
    "</figure>\n",
    "\n",
    "## A Note on Loops\n",
    "\n",
    "There is precisely **one** place in this entire problem in which a loop (such as a `for`-loop, a `while`-loop, or a list comprehension) is completely appropriate. This place is **Part D**. I'll tell you when we get there. With that one exception, you should avoid the use of loops whenever possible. Solutions that use loops elsewhere will receive partial credit. \n",
    "\n",
    "## Concision and Style\n",
    "\n",
    "Remember, *concision and style* are two of the criteria on which we assess your solutions. You should aim to write code that is as short, simple, and readable as possible. My own solution for this problem requires 21 lines excluding comments. Longer solutions are ok, as long as they don't perform redundant computation and appropriately make use of Numpy operations. \n",
    "\n",
    "## Comments and Docstrings\n",
    "\n",
    "**Comments and docstrings are not required** in any part of this problem. However,they may help us give you partial credit, so they are recommended unless you're feeling very confident. \n",
    "\n",
    "## Input Checking\n",
    "\n",
    "- **It is not necessary to perform any input checking** in this problem -- you can assume that the user will supply inputs with the correct data types, shapes, etc. \n",
    "\n",
    "## Image Appearance\n",
    "\n",
    "**It's ok for your images to look a little different from mine.** For example, your image might appear slightly jagged or blocky, depending on the size of your background `Canvas`. That's ok! As long as your image clearly demonstrates correct code, you'll receive full credit. "
   ]
  },
  {
   "cell_type": "markdown",
   "metadata": {},
   "source": [
    "## Part A\n",
    "\n",
    "You don't have to write any code here, just run the block below."
   ]
  },
  {
   "cell_type": "code",
   "execution_count": 1,
   "metadata": {},
   "outputs": [],
   "source": [
    "# run this to get started\n",
    "#imported libraries\n",
    "import numpy as np\n",
    "from matplotlib import pyplot as plt"
   ]
  },
  {
   "cell_type": "markdown",
   "metadata": {},
   "source": [
    "You did it!"
   ]
  },
  {
   "cell_type": "markdown",
   "metadata": {},
   "source": [
    "## Part B (10 points)\n",
    "\n",
    "Create a class `Canvas`, and implement two methods. \n",
    "\n",
    "- The `__init__()` method should take two arguments other than `self`, `background` and `n`. \n",
    "    - The `background` is expected to be a 1d Numpy array of length 3, representing an RGB color. For example, `black = np.array([0,0,0])` and `purple = np.array([0.5, 0.5, 0])`. \n",
    "    - At this stage, the `__init__` method should create an instance variable `self.im`, a Numpy array of shape `(n, n, 3)`. This array should be constructed so that `self.im[i,j] == background` for each value of `i` and `j`. \n",
    "- The `show()` method should take no arguments (except for `self`), and simply display `self.im` using the `plt.imshow()` function. \n",
    "\n",
    "For example, the code \n",
    "\n",
    "```python\n",
    "purple = np.array([0.5, 0.0, 0.5])\n",
    "C = Canvas(purple, 2001) # 2001 x 2001 pixels\n",
    "C.show()\n",
    "```\n",
    "\n",
    "should display a purple square, like this one: \n",
    "\n",
    "<figure class=\"image\" style=\"width:80%\">\n",
    "  <img src=\"https://raw.githubusercontent.com/PhilChodrow/PIC16A/master/_images/purple.png\" alt=\"\">\n",
    "  <figcaption><i>Example output.</i></figcaption>\n",
    "</figure>\n",
    "\n",
    "Make sure to run the test block after your class definition in order to demonstrate that your code works. \n",
    "\n",
    "### Notes\n",
    "\n",
    "- You can use `ax.axis(\"off\")` to remove the axis ticks and borders, although that's not required for this problem. \n",
    "- For me, the easiest way to create `self.im` was to create an array of appropriate dimensions using `np.zeros()`, and then populate it using array broadcasting. \n",
    "- This problem can be solved using a loop for **partial** credit. \n",
    "   "
   ]
  },
  {
   "cell_type": "code",
   "execution_count": 11,
   "metadata": {},
   "outputs": [],
   "source": [
    "# define your Canvas class here\n",
    "# solutions to Parts B, C, and D should all be in this cell\n",
    "\n",
    "class Canvas:\n",
    "    \"\"\"\n",
    "    Creates an object that can plot disks, bulls-eyes,\n",
    "    on a background given at object initialization.\n",
    "    \"\"\"\n",
    "    \n",
    "    def __init__(self, background, n):\n",
    "        \"\"\"\n",
    "        Initialization of variables.\n",
    "        \"\"\"\n",
    "# raise error if the color is not of 3 dimensions\n",
    "        if background.shape != (3,):\n",
    "            raise ValueError(\"background color must be 3 dimensional for rgb encoding\")\n",
    "        self.background = background\n",
    "# broadcast background on self.im to get background color in all entries\n",
    "        self.im = np.zeros((n,n,3)) + background\n",
    "    \n",
    "    def coloring(self, color):\n",
    "        \"\"\"\n",
    "        Assign string color based on color of array\n",
    "        to use for contour color mapping that only takes\n",
    "        string values.\n",
    "        \"\"\"\n",
    "# raise error if the color supplied is not of 3 dimensions\n",
    "        if color.shape != (3,):\n",
    "            raise ValueError(\"color must be 3 dimensional for rgb encoding\")\n",
    "        \n",
    "# control flow to assign colors by if else\n",
    " # use (a == b).all() to check equality of numpy arrays\n",
    "        if (color == np.array([.5, 0, .5])).all():\n",
    "            color = 'purple'\n",
    "        elif (color == np.array([1, 1, 1])).all():\n",
    "            color = 'white'\n",
    "        elif (color == np.array([1, 1, 1])).all():\n",
    "            color = 'green'\n",
    "        elif (color == np.array([0, 0, 1])).all():\n",
    "            color = 'blue'\n",
    "        elif (color == np.array([1, .4, 0])).all():\n",
    "            color = 'orange'\n",
    "        elif (color == np.array([1, 1, 0])).all():\n",
    "            color = 'yellow'\n",
    "        elif (color == np.array([.2,.2,.2])).all():\n",
    "            color = 'grey'\n",
    "        elif (color == np.array([0, 1, 0])).all():\n",
    "            color = 'green'\n",
    "        elif (color == np.array([1,.2,.1])).all():\n",
    "            color = 'red'\n",
    "        elif (color == np.array([0,0,0])).all():\n",
    "            color = 'black'\n",
    "        else:\n",
    "# raise value error if it's not in the rainbow colors\n",
    "            raise ValueError(\"Color array is not in base colors\")\n",
    "        return (color)\n",
    "    \n",
    "    def show(self):\n",
    "        \"\"\"\n",
    "        Plots the image that we have operated on.\n",
    "        Will just be the background if add_disk and add_bullseye\n",
    "        is not used. Otherwise, it is with disk(s) and bullseye(s).\n",
    "        \"\"\"\n",
    "        \n",
    "        plt.axis(\"off\")\n",
    "        plt.imshow(self.im)\n",
    "        \n",
    "    def add_disk(self, centroid, radius, color):\n",
    "        \"\"\"\n",
    "        Adds a disk to our plot with user specified center,\n",
    "        radius and color.\n",
    "        \"\"\"\n",
    "# assign color by coloring function\n",
    "        color = self.coloring(color)\n",
    "\n",
    "# create a linear space for x and y from 0\n",
    "# and to twice the centroid, to make the centroid in the middle\n",
    "        x = np.linspace(0,centroid[0]*2,5000)\n",
    "        y = np.linspace(0, centroid[1]*2,5000)\n",
    "\n",
    "# mesh grid, x and y from above\n",
    "        X, Y = np.meshgrid(x,y)\n",
    "\n",
    "# C equates a circle in our domain, centered at the centroid\n",
    "        C = (X-centroid[0])**2 + (Y-centroid[1])**2\n",
    "# Contour plot with coordinates X & Y, function C, and fill\n",
    "# the color in the interval of levels.\n",
    "        plt.contourf(X,Y, C, colors = color, levels = [0,radius**2], extend = 'neither')\n",
    "\n",
    "    def add_bullseye(self, centroid, radius, color1, color2, bandwidth):\n",
    "        \"\"\"\n",
    "        Adds a bullseye to a plot centered at the coordinates given by\n",
    "        a centroid tuple, as well as user specified radius, bandwidth, \n",
    "        and two color arguments; the 2nd being the inner color.\n",
    "        \"\"\"\n",
    "# assign color1&2 by the coloring function\n",
    "        color1 = self.coloring(color1)\n",
    "        color2 = self.coloring(color2)\n",
    "        \n",
    "# create a linear space for x and y from 0\n",
    "# and to twice the centroid, to make the centroid in the middle\n",
    "        x = np.linspace(0,centroid[0]*2,1000)\n",
    "        y = np.linspace(0, centroid[1]*2,1000)\n",
    "\n",
    "# mesh grid x & y to get coordinates for a circle.\n",
    "        X, Y = np.meshgrid(x,y)\n",
    "\n",
    "# C equates to a circle with coordinates X and Y\n",
    "# with center at the centroid\n",
    "        C = (X-centroid[0])**2 + (Y-centroid[1])**2\n",
    "\n",
    "# loop through the number of bands needed as seen in example\n",
    "        for i in range(int(radius/bandwidth)+1):\n",
    "# at i == 0, we fill a circle with radius of bandwidth\n",
    "            if i == 0:\n",
    "# Contour plot with coordinates X & Y, function C, and fill\n",
    "# with color2 in the interval of levels.\n",
    "                plt.contourf(X,Y, C, colors = color2, \n",
    "                             levels = [0, bandwidth**2], extend = 'neither')\n",
    "# if i > 0 and even, we add color 1\n",
    "            elif (i > 0) & (i % 2 == 0):\n",
    "# Contour plot with coordinates X & Y, function C, and fill\n",
    "# with color1 in the interval of levels.\n",
    "                plt.contourf(X,Y, C, colors = color1, \n",
    "                             levels = [(bandwidth*i)**2, (bandwidth*(i+1))**2],\n",
    "                             extend = 'neither')\n",
    "                \n",
    "            else:\n",
    "# if i is odd, we add color 2\n",
    "# Contour plot with coordinates X & Y, function C, and fill\n",
    "# with color2 in the interval of levels.\n",
    "                plt.contourf(X,Y, C, colors = color2, \n",
    "                             levels = [(bandwidth*i)**2, (bandwidth*(i+1))**2],\n",
    "                             extend = 'neither')"
   ]
  },
  {
   "cell_type": "code",
   "execution_count": 12,
   "metadata": {},
   "outputs": [
    {
     "data": {
      "image/png": "[encoded data removed]",
      "text/plain": [
       "<Figure size 432x288 with 1 Axes>"
      ]
     },
     "metadata": {
      "needs_background": "light"
     },
     "output_type": "display_data"
    }
   ],
   "source": [
    "# test code: run but do not modify\n",
    "purple = np.array([0.5, 0, 0.5])\n",
    "C = Canvas(purple, 2001) # 2001 x 2001 pixels\n",
    "C.show()\n"
   ]
  },
  {
   "cell_type": "markdown",
   "metadata": {},
   "source": [
    "## Part C (15 points)\n",
    "\n",
    "**Modifying your class above** (that is, not copy/pasting code), implement a method called `add_disk(centroid, radius, color)`, which draws a colored disk with specified `radius`, centered at `centroid`, of the specified color. \n",
    "\n",
    "- `centroid` may be assumed to be a tuple, list, or Numpy array of the form `(x,y)`, where `x` gives the horizontal coordinate of the disk's center and `y` gives the vertical coordinate. \n",
    "- All points within distance `radius` of the `centroid` should be filled in with `color`. \n",
    "\n",
    "\n",
    "For example, the code \n",
    "\n",
    "```python\n",
    "purple = np.array([.5, 0, .5])\n",
    "white  = np.array([1, 1, 1])\n",
    "\n",
    "C = Canvas(background = purple, n = 2001)\n",
    "C.add_disk((1001, 1001), 500, white)\n",
    "C.show()\n",
    "```\n",
    "\n",
    "should produce the following image: \n",
    "\n",
    "<figure class=\"image\" style=\"width:80%\">\n",
    "  <img src=\"https://raw.githubusercontent.com/PhilChodrow/PIC16A/master/_images/purple-white.png\" alt=\"\">\n",
    "  <figcaption><i>Example output.</i></figcaption>\n",
    "</figure>\n",
    "\n",
    "\n",
    "Run the test code supplied below to demonstrate that your code is working. \n",
    "\n",
    "### Math Note\n",
    "\n",
    "Recall that the (open) disk of radius $r$ with centroid $(x_0, y_0)$ is the set of all points $(x,y)$ satisfying the formula\n",
    "\n",
    "$$(x - x_0)^2 + (y - y_0)^2 < r^2\\;.$$\n",
    "\n",
    "### Programming Notes\n",
    "\n",
    "- The function `np.meshgrid` is a useful way to represent the horizontal and vertical coordinates. If you take this approach, you should ensure that this function is called only **once** even if your user calls `self.add_disk()` multiple times. \n",
    "- This problem can be solved using a loop for **partial** credit. \n",
    "- If you do take the loop-based approach for partial credit, you may need to reduce `n`, the size of the `Canvas`, in the examples below, as your code might be slower. "
   ]
  },
  {
   "cell_type": "code",
   "execution_count": 13,
   "metadata": {},
   "outputs": [
    {
     "data": {
      "image/png": "[encoded data removed]",
      "text/plain": [
       "<Figure size 432x288 with 1 Axes>"
      ]
     },
     "metadata": {
      "needs_background": "light"
     },
     "output_type": "display_data"
    }
   ],
   "source": [
    "# test code: run but do not modify\n",
    "purple = np.array([.5, 0, .5])\n",
    "white  = np.array([1, 1, 1])\n",
    "\n",
    "C = Canvas(background = purple, n = 2001)\n",
    "C.add_disk((1001, 1001), 500, white)\n",
    "C.show()"
   ]
  },
  {
   "cell_type": "markdown",
   "metadata": {},
   "source": [
    "## Part D (15 points)\n",
    "\n",
    "Modify your code from Part B (still no copy/paste), write a method called `add_bullseye(centroid, radius, color1, color2, bandwidth)`. This method should create a bullseye pattern consisting of concentric circles with alternating colors. Each circle should have thickness equal to `bandwidth`, and the radius of the entire pattern should be equal to `radius`. For example: \n",
    "\n",
    "```python\n",
    "purple = np.array([0.5, 0.0, 0.5])\n",
    "white  = np.array([1.0, 1.0, 1.0])\n",
    "grey   = np.array([0.2, 0.2, 0.2])\n",
    "\n",
    "C = Canvas(background = grey, n = 2001)\n",
    "C.add_bullseye((1001, 1001), 500, purple, white, bandwidth = 50)\n",
    "C.show()\n",
    "```\n",
    "\n",
    "<figure class=\"image\" style=\"width:80%\">\n",
    "  <img src=\"https://raw.githubusercontent.com/PhilChodrow/PIC16A/master/_images/one-bullseye.png\" alt=\"\">\n",
    "  <figcaption><i>Example output.</i></figcaption>\n",
    "</figure>\n",
    "\n",
    "In this example, each of the bands is 50 pixels thick, and the entire pattern has radius 500. \n",
    "\n",
    "### Loops\n",
    "\n",
    "In this part, it would be appropriate to write **one** `for`- or `while`-loop. \n",
    "\n",
    "### Hint\n",
    "\n",
    "You might wish to create a new cell and run the following code -- it could help you catch on to the right idea. \n",
    "\n",
    "```python\n",
    "purple = np.array([0.5, 0.0, 0.5])\n",
    "white  = np.array([1.0, 1.0, 1.0])\n",
    "grey   = np.array([0.2, 0.2, 0.2])\n",
    "\n",
    "C = Canvas(background = grey, n = 2001)\n",
    "C.add_disk((1001, 1001), 500, purple)\n",
    "C.add_disk((1001, 1001), 450, white)\n",
    "C.show()\n",
    "```\n"
   ]
  },
  {
   "cell_type": "code",
   "execution_count": 14,
   "metadata": {},
   "outputs": [
    {
     "data": {
      "image/png": "[encoded data removed]",
      "text/plain": [
       "<Figure size 432x288 with 1 Axes>"
      ]
     },
     "metadata": {
      "needs_background": "light"
     },
     "output_type": "display_data"
    }
   ],
   "source": [
    "# test code: run but do not modify\n",
    "purple = np.array([0.5, 0.0, 0.5])\n",
    "white  = np.array([1.0, 1.0, 1.0])\n",
    "grey   = np.array([0.2, 0.2, 0.2])\n",
    "\n",
    "C = Canvas(background = grey, n = 2001)\n",
    "C.add_bullseye((1001, 1001), 500, purple, white, bandwidth = 50)\n",
    "C.show()"
   ]
  },
  {
   "cell_type": "markdown",
   "metadata": {},
   "source": [
    "# Part E (5 points)\n",
    "\n",
    "Write a further demonstration of the correct functioning of your code by creating a new `Canvas` with at least three bullseyes drawn on it. You should demonstrate: \n",
    "\n",
    "- At least three (3) different centroids. \n",
    "- At least four (4) different colors. \n",
    "- At least three (3) different values of the `bandwidth` parameter. \n",
    "\n",
    "You're also welcome to vary the `radius` parameter, but this isn't required.  \n",
    "\n",
    "You're encouraged to be creative! Coordinate your colors, let your bullseyes partially intersect, etc. etc. But if you're not really feeling your artistic mojo today, it's ok to base your solution on the example shown at the very beginning of this problem, which satisfies all of the above criteria. I've predefined the colors I used for your convenience. \n",
    "\n",
    "Provided that you've solved up to Part D correctly, no further modifications to your `Canvas` class are required.  "
   ]
  },
  {
   "cell_type": "code",
   "execution_count": 6,
   "metadata": {},
   "outputs": [
    {
     "data": {
      "image/png": "[encoded data removed]",
      "text/plain": [
       "<Figure size 432x288 with 1 Axes>"
      ]
     },
     "metadata": {
      "needs_background": "light"
     },
     "output_type": "display_data"
    }
   ],
   "source": [
    "# predefined colors -- feel free to add your faves!\n",
    "\n",
    "purple = np.array([.5, 0, .5])\n",
    "white  = np.array([1, 1, 1])\n",
    "green  = np.array([0, 1, 0])\n",
    "blue   = np.array([0, 0, 1])\n",
    "orange = np.array([1, .4, 0])\n",
    "yellow = np.array([1, 1, 0])\n",
    "grey   = np.array([.2,.2,.2])\n",
    "red    = np.array([1,.2,.1])\n",
    "black  = np.array([0,0,0])\n",
    "\n",
    "# write your demonstration here\n",
    "# don't forget to show the image! \n",
    "\n",
    "P = Canvas(background = black, n = 2001)\n",
    "P.add_bullseye((501, 501), 250, purple, yellow, bandwidth = 60)\n",
    "P.add_bullseye((1501,1501), 400, green, grey, bandwidth = 40)\n",
    "P.add_bullseye((1501, 500), 280, red, blue, bandwidth = 20)\n",
    "P.add_bullseye((500, 1500), 375, red, white, bandwidth = 30)\n",
    "P\n",
    "P.show()"
   ]
  }
 ],
 "metadata": {
  "kernelspec": {
   "display_name": "Python 3",
   "language": "python",
   "name": "python3"
  },
  "language_info": {
   "codemirror_mode": {
    "name": "ipython",
    "version": 3
   },
   "file_extension": ".py",
   "mimetype": "text/x-python",
   "name": "python",
   "nbconvert_exporter": "python",
   "pygments_lexer": "ipython3",
   "version": "3.8.5"
  }
 },
 "nbformat": 4,
 "nbformat_minor": 5
}
